{
 "metadata": {
  "language_info": {
   "codemirror_mode": {
    "name": "ipython",
    "version": 3
   },
   "file_extension": ".py",
   "mimetype": "text/x-python",
   "name": "python",
   "nbconvert_exporter": "python",
   "pygments_lexer": "ipython3",
   "version": "3.7.6-final"
  },
  "orig_nbformat": 2,
  "kernelspec": {
   "name": "python3",
   "display_name": "Python 3.7.6 64-bit (conda)",
   "metadata": {
    "interpreter": {
     "hash": "2066ab7b33253b7cb0f5d1837cb12de1b26c7e292e16486f8f58310cc5ce9efd"
    }
   }
  }
 },
 "nbformat": 4,
 "nbformat_minor": 2,
 "cells": [
  {
   "source": [
    "# Welcome to the 4Cast program"
   ],
   "cell_type": "markdown",
   "metadata": {}
  },
  {
   "source": [
    "libraries needed:"
   ],
   "cell_type": "markdown",
   "metadata": {}
  },
  {
   "cell_type": "code",
   "execution_count": null,
   "metadata": {},
   "outputs": [],
   "source": [
    "import pandas as pd\n",
    "import matplotlib as plt\n",
    "import numpy as np\n",
    "import math\n",
    "#from Stonks Project import *\n",
    "#call all other functions. handy for calling functions from this class to the others\n",
    "#this is a program where everything is done NEARLY from scratch. pandas is used for dataframing. numpy for arrays and its efficiency. matlab used to plot HOWEVER your program may very. almost nothing in terms of plotting would be returned"
   ]
  },
  {
   "cell_type": "code",
   "execution_count": null,
   "metadata": {},
   "outputs": [],
   "source": [
    "\"\"\"def test(myList=[],*args):\n",
    "    print('hello world')\n",
    "    for x in myList:\n",
    "        print (x)\n",
    "    pass\"\"\"\n",
    "\n",
    "def autocorr(y, *args):\n",
    "\n",
    "    #temporary at lag1\n",
    "    \n",
    "    #step by step method:\n",
    "        #set array1 to all values of y (array1 = y)\n",
    "\n",
    "        #set ybar (average of y)\n",
    "\n",
    "    ybar = sum(y)/len(y) \n",
    "    \n",
    "        #set array2 lagged coeff of 1 for array1 (use np.insert(array2, 0, 0, axis = 0)) where ylagged is array2\n",
    "\n",
    "    ylagged = y\n",
    "    ylagged = np.insert((ylagged),0,0,axis=0)\n",
    "    ylagged = ylagged[:-1]\n",
    "\n",
    "        #array3 = array1 values subtracted by ybar (array1-ybar)\n",
    "\n",
    "    y_ybar = []\n",
    "    y_ybar = y-ybar\n",
    "\n",
    "        #array4 = array2 values subtracted by ybar (array2-ybar)\n",
    "\n",
    "    laggedy_ybar = []\n",
    "    laggedy_ybar = ylagged-ybar\n",
    "    laggedy_ybar[0] = 0\n",
    "\n",
    "        #array5 = array3 values are squared at each index\n",
    "\n",
    "    y_bar_sqr = []\n",
    "    y_bar_sqr = np.power(y_ybar, 2)\n",
    "\n",
    "        #array6 = array3 * array4\n",
    "\n",
    "    y_mult_ylag = []\n",
    "    y_mult_ylag = y_ybar*laggedy_ybar\n",
    "    y_mult_ylag[0] = 0\n",
    "\n",
    "        #set int num = np.sum(array6)\n",
    "\n",
    "    num = np.sum(y_mult_ylag)\n",
    "\n",
    "        #set int den = np.sum(array5)\n",
    "\n",
    "    den = np.sum(y_bar_sqr)\n",
    "\n",
    "        #equation = num/den\n",
    "\n",
    "    fin_eqn = num/den\n",
    "    \n",
    "        #return equation\n",
    "\n",
    "    return fin_eqn\n",
    "\n",
    "def stderr():\n",
    "    pass\n",
    "\n",
    "def qtest():\n",
    "    pass\n",
    "\n",
    "def r_error(actual, forecasted, *args):\n",
    "\n",
    "    actual[0] = 0\n",
    "    forecasted[0] = 0\n",
    "    r_err = actual - forecasted\n",
    "\n",
    "    return r_err\n",
    "\n",
    "def MAD(actual, forecasted, *args):\n",
    "\n",
    "    mad = abs(r_error(actual, forecasted))\n",
    "    sum_mad = np.sum(mad)\n",
    "\n",
    "    return sum_mad\n",
    "\n",
    "def MSE(actual, forecasted, *args):\n",
    "\n",
    "    mse = np.power(r_error(actual, forecasted), 2)\n",
    "    sum_mse = np.sum(mse)\n",
    "\n",
    "    return sum_mse\n",
    "\n",
    "def RMSE(actual, forecasted, *args):\n",
    "\n",
    "    mse = np.power(r_error(actual, forecasted), 2)\n",
    "    sum_mse = np.sum(mse)\n",
    "    rmse = math.sqrt(sum_mse)\n",
    "    \n",
    "    return rmse\n",
    "\n",
    "def MAPE(actual, forecasted, *args):\n",
    "\n",
    "    actual[0] = 0\n",
    "    forecasted[0] = 0\n",
    "    mad = abs(r_error(actual, forecasted))\n",
    "    mape = np.divide(mad,actual)\n",
    "    mape[0] = 0\n",
    "    sum_mape = np.sum(mape)\n",
    "\n",
    "    return sum_mape\n",
    "\n",
    "def MPE(actual, forecasted, *args):\n",
    "\n",
    "    actual[0] = 0\n",
    "    forecasted[0] = 0\n",
    "    mad = r_error(actual, forecasted)\n",
    "    mpe = np.divide(mad,actual)\n",
    "    mpe[0] = 0\n",
    "    sum_mpe = np.sum(mpe)\n",
    "\n",
    "    return sum_mpe\n",
    "\n",
    "#y = np.array([123,130,125,138,145,142,141,146,147,157,150,160])\n",
    "#x = np.arange(1,13)\n"
   ]
  },
  {
   "source": [
    "## Test field for measuring forecast errors\n",
    "### Data used for testing is from table 7 on page 38"
   ],
   "cell_type": "markdown",
   "metadata": {}
  },
  {
   "cell_type": "code",
   "execution_count": null,
   "metadata": {},
   "outputs": [],
   "source": [
    "Yt = np.array([58,54,60,55,62,62,65,63,70])\n",
    "Yt_forecasted = np.array([0,58,54,60,55,62,62,65,63])\n",
    "print (f'Residual Errors:\\n{r_error(Yt, Yt_forecasted)}')\n",
    "print (f'MAD:\\n{MAD(Yt, Yt_forecasted)}')\n",
    "print (f'MSE:\\n{MSE(Yt, Yt_forecasted)}')\n",
    "print (f'RMSE:\\n{RMSE(Yt, Yt_forecasted)}')\n",
    "print (f'MAPE:\\n{MAPE(Yt, Yt_forecasted)}')\n",
    "print (f'MPE:\\n{MPE(Yt, Yt_forecasted)}')"
   ]
  },
  {
   "source": [
    "### Simple and Moving averages methods:"
   ],
   "cell_type": "markdown",
   "metadata": {}
  },
  {
   "cell_type": "code",
   "execution_count": null,
   "metadata": {},
   "outputs": [],
   "source": [
    "\n",
    "def naive():\n",
    "    #Naive forecasts assume that recent periods are the best predictors of the future\n",
    "    pass\n",
    "\n",
    "def s_avg():\n",
    "    #simple averages\n",
    "    pass\n",
    "\n",
    "def m_avg():\n",
    "    #moving averages\n",
    "    pass\n",
    "\n",
    "def expm_avg():\n",
    "    #exponential moving averages\n",
    "    pass\n",
    "\n",
    "def w_method():\n",
    "    #winters method\n",
    "    pass"
   ]
  },
  {
   "source": [
    "### Time series and decomposition methods:\n",
    "\n",
    "needs a lot more functions\n"
   ],
   "cell_type": "markdown",
   "metadata": {}
  },
  {
   "cell_type": "code",
   "execution_count": null,
   "metadata": {},
   "outputs": [],
   "source": [
    "def lin_trend():\n",
    "    pass\n",
    "\n",
    "def quad_trend():\n",
    "    pass\n",
    "\n",
    "def exp_trend():\n",
    "    pass\n",
    "\n",
    "def cycl():\n",
    "    pass\n",
    "\n",
    "def seasonal():\n",
    "    pass\n",
    "\n",
    "def irreg():\n",
    "    pass\n",
    "\n",
    "def decomp():\n",
    "    #Decomposition method\n",
    "    #there are 2 models for this forecasting technique: additional and multiplication\n",
    "    pass"
   ]
  },
  {
   "source": [
    "### Simple Linear Regressions:\n",
    "\n",
    "consists of finding the linear regression but also variance and errors"
   ],
   "cell_type": "markdown",
   "metadata": {}
  },
  {
   "cell_type": "code",
   "execution_count": null,
   "metadata": {},
   "outputs": [],
   "source": [
    "def straight_line(x, y, *args):\n",
    "    sum_x = sum(x)\n",
    "    mean_x = sum_x/len(x)\n",
    "    return sum_x, mean_x\n",
    "\n",
    "def SSE():\n",
    "    #sum of squared errors\n",
    "    #sum of (y values - y predicted variables)^2\n",
    "    pass\n",
    "\n",
    "def SSR():\n",
    "    #Variability explained by linear relation\n",
    "    pass\n",
    "\n",
    "def SST():\n",
    "    #sum of SSR and SSE\n",
    "    pass\n",
    "\n",
    "def MSR():\n",
    "    #mean square of regresions\n",
    "    pass\n",
    "\n",
    "def MSE():\n",
    "    #mean square of errors\n",
    "    #mse = sss/(n-2)\n",
    "    pass\n",
    "\n",
    "def ANOVA():\n",
    "    pass\n",
    "\n",
    "def std_error_reg():\n",
    "    pass\n",
    "\n",
    "def f_test():\n",
    "    pass"
   ]
  },
  {
   "source": [
    "### Multiple Regression:"
   ],
   "cell_type": "markdown",
   "metadata": {}
  },
  {
   "cell_type": "code",
   "execution_count": null,
   "metadata": {},
   "outputs": [],
   "source": []
  },
  {
   "source": [
    "### Testing Grounds:"
   ],
   "cell_type": "markdown",
   "metadata": {}
  },
  {
   "source": [
    "x = [1,2,3]\n",
    "y = [1,2,3]\n",
    "\n",
    "sum_values, mean_values = straight_line(x,y)\n",
    "print (sum_values + mean_values)"
   ],
   "cell_type": "markdown",
   "metadata": {}
  }
 ]
}